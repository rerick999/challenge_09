{
 "cells": [
  {
   "cell_type": "markdown",
   "id": "5f10ab6a",
   "metadata": {},
   "source": [
    "### imports"
   ]
  },
  {
   "cell_type": "code",
   "execution_count": 1,
   "id": "cfd34c6b",
   "metadata": {},
   "outputs": [],
   "source": [
    "import csv\n",
    "import psycopg2\n",
    "import os\n",
    "import glob\n",
    "from api_keys import postgres\n",
    "UNIQUES=set('emp_title_id')"
   ]
  },
  {
   "cell_type": "markdown",
   "id": "620ac1dd",
   "metadata": {},
   "source": [
    "### functions"
   ]
  },
  {
   "cell_type": "code",
   "execution_count": 2,
   "id": "687b188e",
   "metadata": {},
   "outputs": [],
   "source": [
    "def load_data_sql(table,columns,source):\n",
    "    source=os.path.abspath(source)\n",
    "    combined_columns=', '.join(columns)\n",
    "    sql=f'''\n",
    "copy public.{table} ({combined_columns}) \n",
    "FROM '{source}' \n",
    "DELIMITER ',' \n",
    "CSV HEADER \n",
    "QUOTE '\\\"' \n",
    ";\n",
    "    '''\n",
    "    return sql\n",
    "\n",
    "def cleanse(astr):\n",
    "    return astr.encode('ascii', 'replace').decode('ascii').replace('?','')"
   ]
  },
  {
   "cell_type": "markdown",
   "id": "a9e6390d",
   "metadata": {},
   "source": [
    "### create database"
   ]
  },
  {
   "cell_type": "markdown",
   "id": "607034ee",
   "metadata": {},
   "source": [
    "psql -U postgres\n",
    "drop database xxx with (force);\n",
    "\\l\n",
    "create database xxx;"
   ]
  },
  {
   "cell_type": "markdown",
   "id": "c62036ab",
   "metadata": {},
   "source": [
    "### create tables and load csv data"
   ]
  },
  {
   "cell_type": "code",
   "execution_count": 3,
   "id": "3481317c",
   "metadata": {},
   "outputs": [
    {
     "name": "stdout",
     "output_type": "stream",
     "text": [
      "Connecting to Database\n",
      "Connected\n",
      "departments\n",
      "dept_emp\n",
      "dept_manager\n",
      "employees\n",
      "salaries\n",
      "titles\n"
     ]
    }
   ],
   "source": [
    "print(\"Connecting to Database\")\n",
    "with psycopg2.connect(f\"host=localhost dbname=db_challenge_09 user=postgres password={postgres}\") as conn:\n",
    "    print(\"Connected\")\n",
    "    csvpath=\"..\\\\data\\\\\"\n",
    "    # Loop through each CSV\n",
    "    with conn.cursor() as cur:\n",
    "        for filename in glob.glob(csvpath+\"*.csv\"):\n",
    "            # Create a table name\n",
    "            filename=os.path.normpath(filename)\n",
    "#             print(filename)\n",
    "            tablename=filename.replace(csvpath,\"\").replace(\".csv\", \"\")\n",
    "            tablename=tablename.strip('\"')\n",
    "            print(tablename)\n",
    "            # Open file\n",
    "            fileInput=open(filename, \"r\")\n",
    "            # Extract first line of file\n",
    "            firstLine=fileInput.readline().strip()\n",
    "            # Split columns into an array [...]\n",
    "            columns=firstLine.split(\",\")\n",
    "            columns=[x.strip('\"') for x in columns]\n",
    "            columns=[cleanse(x) for x in columns]\n",
    "            # Build SQL code to drop table if exists and create table\n",
    "            sqlQueryCreate='DROP TABLE IF EXISTS '+tablename+\" CASCADE;\\n\"\n",
    "            sqlQueryCreate+='CREATE TABLE '+tablename+\"\\n(\"\n",
    "            #some loop or function according to your requiremennt\n",
    "            # Define columns for table\n",
    "            for column in columns:\n",
    "                if column.endswith('_no'):\n",
    "#                     print('no')\n",
    "#                     sqlQueryCreate+=column+\" INT,\\n\"\n",
    "                    sqlQueryCreate+=column+\" CHAR(10) NOT NULL,\\n\"\n",
    "                elif column in ['salary']:\n",
    "                    sqlQueryCreate+=column+\" INT NOT NULL,\\n\"\n",
    "                elif column.endswith('date'):\n",
    "                    sqlQueryCreate+=column+\" DATE NOT NULL,\\n\"\n",
    "                elif column in UNIQUES:\n",
    "                    sqlQueryCreate+=column+\" VARCHAR(64) NOT NULL UNIQUE,\\n\"\n",
    "                else:\n",
    "                    sqlQueryCreate+=column+\" VARCHAR(64) NOT NULL,\\n\"\n",
    "            sqlQueryCreate=sqlQueryCreate[:-2]\n",
    "            sqlQueryCreate+=\"\\n);\"\n",
    "#             print(sqlQueryCreate)\n",
    "#             print('')\n",
    "            cur.execute(sqlQueryCreate)\n",
    "            conn.commit()\n",
    "            \n",
    "            #load data\n",
    "            sqldata=load_data_sql(tablename,columns,filename)\n",
    "#             print(sqldata)\n",
    "            cur.execute(sqldata)\n",
    "            conn.commit()\n",
    "            "
   ]
  },
  {
   "cell_type": "markdown",
   "id": "7d07fdef",
   "metadata": {},
   "source": [
    "### create primary keys"
   ]
  },
  {
   "cell_type": "code",
   "execution_count": 4,
   "id": "ee1d89ee",
   "metadata": {},
   "outputs": [
    {
     "name": "stdout",
     "output_type": "stream",
     "text": [
      "Connecting to Database\n",
      "Connected\n",
      "attempting:  ALTER TABLE public.departments ADD PRIMARY KEY (dept_no);\n",
      "committed\n",
      "attempting:  ALTER TABLE public.dept_emp ADD PRIMARY KEY (emp_no,dept_no);\n",
      "committed\n",
      "attempting:  ALTER TABLE public.dept_manager ADD PRIMARY KEY (emp_no);\n",
      "committed\n",
      "attempting:  ALTER TABLE public.employees ADD PRIMARY KEY (emp_no);\n",
      "committed\n",
      "attempting:  ALTER TABLE public.salaries ADD PRIMARY KEY (emp_no);\n",
      "committed\n",
      "attempting:  ALTER TABLE public.titles ADD PRIMARY KEY (title_id);\n",
      "committed\n"
     ]
    }
   ],
   "source": [
    "primary_keys=[\n",
    "    'ALTER TABLE public.departments ADD PRIMARY KEY (dept_no);',\n",
    "    'ALTER TABLE public.dept_emp ADD PRIMARY KEY (emp_no,dept_no);',\n",
    "    'ALTER TABLE public.dept_manager ADD PRIMARY KEY (emp_no);',\n",
    "    'ALTER TABLE public.employees ADD PRIMARY KEY (emp_no);',\n",
    "    'ALTER TABLE public.salaries ADD PRIMARY KEY (emp_no);',\n",
    "    'ALTER TABLE public.titles ADD PRIMARY KEY (title_id);',\n",
    "    \n",
    "#     'ALTER TABLE public.dept_emp ADD PRIMARY KEY (dept_no);',\n",
    "#     'ALTER TABLE public.dept_manager ADD PRIMARY KEY (emp_no,dept_no);',\n",
    "]\n",
    "print(\"Connecting to Database\")\n",
    "with psycopg2.connect(f\"host=localhost dbname=db_challenge_09 user=postgres password={postgres}\") as conn:\n",
    "    print(\"Connected\")\n",
    "    with conn.cursor() as cur:\n",
    "        for pk in primary_keys:\n",
    "            print('attempting: ',pk)\n",
    "            try:\n",
    "                cur.execute(pk)\n",
    "                conn.commit()\n",
    "                print('committed')\n",
    "            except Exception as e:\n",
    "                print('failed!')\n",
    "                print(e)\n",
    "                conn.rollback()\n",
    "        \n",
    "    "
   ]
  },
  {
   "cell_type": "markdown",
   "id": "93881564",
   "metadata": {},
   "source": [
    "### add indexes"
   ]
  },
  {
   "cell_type": "code",
   "execution_count": 5,
   "id": "e9620b0b",
   "metadata": {},
   "outputs": [
    {
     "name": "stdout",
     "output_type": "stream",
     "text": [
      "Connecting to Database\n",
      "Connected\n",
      "attempting:  create index salaries_emp_no_idx on salaries(emp_no);\n",
      "committed\n",
      "attempting:  create index dept_emp_emp_no_idx on dept_emp(emp_no);\n",
      "committed\n",
      "attempting:  create index dept_emp_dept_no_idx on dept_emp(dept_no);\n",
      "committed\n"
     ]
    }
   ],
   "source": [
    "additional=[\n",
    "    'create index salaries_emp_no_idx on salaries(emp_no);',\n",
    "    'create index dept_emp_emp_no_idx on dept_emp(emp_no);',\n",
    "    'create index dept_emp_dept_no_idx on dept_emp(dept_no);',\n",
    "]\n",
    "print(\"Connecting to Database\")\n",
    "with psycopg2.connect(f\"host=localhost dbname=db_challenge_09 user=postgres password={postgres}\") as conn:\n",
    "    print(\"Connected\")\n",
    "    with conn.cursor() as cur:\n",
    "        for add in additional:\n",
    "            print('attempting: ',add)\n",
    "            try:\n",
    "                cur.execute(add)\n",
    "                conn.commit()\n",
    "                print('committed')\n",
    "            except Exception as e:\n",
    "                print('failed!')\n",
    "                print(e)\n",
    "                conn.rollback()"
   ]
  },
  {
   "cell_type": "markdown",
   "id": "0e352154",
   "metadata": {},
   "source": [
    "### add foreign keys"
   ]
  },
  {
   "cell_type": "code",
   "execution_count": 6,
   "id": "6fd463c4",
   "metadata": {},
   "outputs": [
    {
     "name": "stdout",
     "output_type": "stream",
     "text": [
      "Connecting to Database\n",
      "Connected\n",
      "attempting:  alter table salaries add constraint salaries_emp_no foreign key (emp_no) references employees(emp_no);\n",
      "committed\n",
      "attempting:  alter table dept_emp add constraint dept_emp_emp_no foreign key (emp_no) references employees(emp_no);\n",
      "committed\n",
      "attempting:  alter table dept_manager add constraint dept_manager_emp_no foreign key (emp_no) references dept_emp(emp_no);\n",
      "failed!\n",
      "there is no unique constraint matching given keys for referenced table \"dept_emp\"\n",
      "\n"
     ]
    }
   ],
   "source": [
    "additional=[\n",
    "    'alter table salaries add constraint salaries_emp_no foreign key (emp_no) references employees(emp_no);',\n",
    "    'alter table dept_emp add constraint dept_emp_emp_no foreign key (emp_no) references employees(emp_no);',\n",
    "#     'alter table departments add constraint departments_dept_no_key unique (dept_no);',\n",
    "#     'alter table departments add constraint departments_dept_no foreign key (dept_no) references dept_emp(dept_no);',\n",
    "    'alter table dept_manager add constraint dept_manager_emp_no foreign key (emp_no) references dept_emp(emp_no);',\n",
    "\n",
    "    \n",
    "#     'ALTER TABLE public.titles ADD CONSTRAINT constraint_fk FOREIGN KEY (title_id) REFERENCES employees(emp_title_id);',\n",
    "#     'ALTER TABLE public.dept_emp ADD PRIMARY KEY (emp_no,dept_no);',\n",
    "#     'ALTER TABLE public.dept_manager ADD PRIMARY KEY (dept_no,emp_no);',\n",
    "#     'ALTER TABLE public.employees ADD PRIMARY KEY (emp_no);',\n",
    "#     'ALTER TABLE public.salaries ADD PRIMARY KEY (emp_no);',\n",
    "#     'ALTER TABLE public.titles ADD PRIMARY KEY (title_id);',\n",
    "]\n",
    "print(\"Connecting to Database\")\n",
    "with psycopg2.connect(f\"host=localhost dbname=db_challenge_09 user=postgres password={postgres}\") as conn:\n",
    "    print(\"Connected\")\n",
    "    with conn.cursor() as cur:\n",
    "        for add in additional:\n",
    "            print('attempting: ',add)\n",
    "            try:\n",
    "                cur.execute(add)\n",
    "                conn.commit()\n",
    "                print('committed')\n",
    "            except Exception as e:\n",
    "                print('failed!')\n",
    "                print(e)\n",
    "                conn.rollback()"
   ]
  },
  {
   "cell_type": "code",
   "execution_count": null,
   "id": "22338987",
   "metadata": {},
   "outputs": [],
   "source": []
  }
 ],
 "metadata": {
  "kernelspec": {
   "display_name": "Python 3 (ipykernel)",
   "language": "python",
   "name": "python3"
  },
  "language_info": {
   "codemirror_mode": {
    "name": "ipython",
    "version": 3
   },
   "file_extension": ".py",
   "mimetype": "text/x-python",
   "name": "python",
   "nbconvert_exporter": "python",
   "pygments_lexer": "ipython3",
   "version": "3.10.11"
  }
 },
 "nbformat": 4,
 "nbformat_minor": 5
}
