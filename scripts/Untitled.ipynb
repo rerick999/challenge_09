{
 "cells": [
  {
   "cell_type": "code",
   "execution_count": null,
   "id": "e23a8586",
   "metadata": {},
   "outputs": [],
   "source": [
    "import csv\n",
    "import psycopg2\n",
    "import os\n",
    "import glob\n",
    "\n",
    "conn = psycopg2.connect(\"host= hostnamexx dbname=dbnamexx user= usernamexx password= \n",
    "pwdxx\")\n",
    "print(\"Connecting to Database\")\n",
    "\n",
    "csvPath = \"./TestDataLGA/\"\n",
    "\n",
    "# Loop through each CSV\n",
    "for filename in glob.glob(csvPath+\"*.csv\"):\n",
    "# Create a table name\n",
    "tablename = filename.replace(\"./TestDataLGA\\\\\", \"\").replace(\".csv\", \"\")\n",
    "print tablename\n",
    "\n",
    "# Open file\n",
    "fileInput = open(filename, \"r\")\n",
    "\n",
    "# Extract first line of file\n",
    "firstLine = fileInput.readline().strip()\n",
    "\n",
    "\n",
    "# Split columns into an array [...]\n",
    "columns = firstLine.split(\",\")\n",
    "     \n",
    "\n",
    "# Build SQL code to drop table if exists and create table\n",
    "sqlQueryCreate = 'DROP TABLE IF EXISTS '+ tablename + \";\\n\"\n",
    "sqlQueryCreate += 'CREATE TABLE'+ tablename + \"(\"\n",
    "\n",
    "#some loop or function according to your requiremennt\n",
    "# Define columns for table\n",
    "for column in columns:\n",
    "    sqlQueryCreate += column + \" VARCHAR(64),\\n\"\n",
    "\n",
    "sqlQueryCreate = sqlQueryCreate[:-2]\n",
    "sqlQueryCreate += \");\"\n",
    "\n",
    "cur = conn.cursor()\n",
    "cur.execute(sqlQueryCreate)\n",
    "conn.commit()\n",
    "cur.close()"
   ]
  }
 ],
 "metadata": {
  "kernelspec": {
   "display_name": "Python 3 (ipykernel)",
   "language": "python",
   "name": "python3"
  },
  "language_info": {
   "codemirror_mode": {
    "name": "ipython",
    "version": 3
   },
   "file_extension": ".py",
   "mimetype": "text/x-python",
   "name": "python",
   "nbconvert_exporter": "python",
   "pygments_lexer": "ipython3",
   "version": "3.10.11"
  }
 },
 "nbformat": 4,
 "nbformat_minor": 5
}
